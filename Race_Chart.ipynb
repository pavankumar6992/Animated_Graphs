# -*- coding: utf-8 -*-
"""
Created on Tue Dec 24 12:19:12 2019

@author: Pavan
"""

import pandas as pd
import matplotlib.pyplot as plt
import matplotlib.ticker as ticker
import matplotlib.animation as animation
from IPython.display import HTML


data_Original = pd.read_csv('F:\Spark_Files\popular_cities.csv')

# Get the required columns directly from the source without loading into the environment

url = 'https://gist.githubusercontent.com/johnburnmurdoch/4199dbe55095c3e13de8d5b2e5e5307a/raw/fa018b25c24b7b5f47fd0568937ff6c04e384786/city_populations'
data = pd.read_csv(url, usecols = ['name','group','year','value'])

data.head()

current_year = 2018
dff = (data[data['year'].eq(current_year)].sort_values(by = 'value', ascending= False).head(10))
dff

fig, ax = plt.subplots(figsize = (16,8))
ax.barh(dff['name'],dff['value'])

colors = dict(zip(['India', 'Europe', 'Asia', 'Latin America',
     'Middle East', 'North America', 'Africa'],['#adb0ff', '#ffb3ff', '#90d595', '#e48381',
     '#aafbff', '#f7bb5f', '#eafb50']))

group_lk = data.set_index('name')['group'].to_dict()


fig, ax = plt.subplots(figsize = (16,8))
dff = dff[::-1] # to Flip the graph (if re-run reflips the graph)
ax.barh(dff['name'], dff['value'], color = [colors[group_lk[x]] for x in dff['name']])

for i, (name, value) in enumerate(zip(dff['name'],dff['value'])):
    ax.text(value, i, name, ha='right')
    ax.text(value, i-.25, group_lk[name], ha='right') # i-0.25 is for the position of group name(0 to 1 top to bottom in the corresponding bar)
    ax.text(value, i, value, ha='left')
    
ax.text(1,0.5, current_year, transform= ax.transAxes, size = 46, ha='right')

# (1,0.5 is for the position of '2018' in the graph, 
#1 corresponds to horizontal position (1 being the right 
#extreme and 0 being the left extreme) and 0.5 
#corresponds to the vertical position)


fig, ax = plt.subplots(figsize=(15, 8))
def draw_barchart(year):
    dff = data[data['year'].eq(year)].sort_values(by='value', ascending=True).tail(10)
    ax.clear()
    ax.barh(dff['name'], dff['value'], color=[colors[group_lk[x]] for x in dff['name']])
    dx = dff['value'].max() / 200
    for i, (value, name) in enumerate(zip(dff['value'], dff['name'])):
        ax.text(value-dx, i,     name,           size=14, weight=600, ha='right', va='bottom')
        ax.text(value-dx, i-.25, group_lk[name], size=10, color='#444444', ha='right', va='baseline')
        ax.text(value+dx, i,     f'{value:,.0f}',  size=14, ha='left',  va='center')
    # ... polished styles
    ax.text(1, 0.4, year, transform=ax.transAxes, color='#777777', size=46, ha='right', weight=800)
    ax.text(0, 1.06, 'Population (thousands)', transform=ax.transAxes, size=12, color='#777777')
    ax.xaxis.set_major_formatter(ticker.StrMethodFormatter('{x:,.0f}'))
    ax.xaxis.set_ticks_position('top')
    ax.tick_params(axis='x', colors='#777777', labelsize=12)
    ax.set_yticks([])
    ax.margins(0, 0.01)
    ax.grid(which='major', axis='x', linestyle='-')
    ax.set_axisbelow(True)
    ax.text(0, 1.12, 'The most populous cities in the world from 1500 to 2018',
            transform=ax.transAxes, size=24, weight=600, ha='left')
    plt.box(False)
    
draw_barchart(2018)



fig, ax = plt.subplots(figsize = (16,8))
animator = animation.FuncAnimation(fig, draw_barchart, frames = range(1970,2018))
HTML(animator.to_jshtml)
# or use animator.to_html5_video() or animator.save()
animator.save('F:\Spark_Files\city.GIF')






